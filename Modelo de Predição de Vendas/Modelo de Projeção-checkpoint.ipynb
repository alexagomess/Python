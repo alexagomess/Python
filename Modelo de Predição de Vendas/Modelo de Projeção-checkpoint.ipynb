{
 "cells": [
  {
   "cell_type": "markdown",
   "id": "2af34ed4",
   "metadata": {},
   "source": [
    "## Importando os dados"
   ]
  },
  {
   "cell_type": "code",
   "execution_count": 1,
   "id": "cc53fa34",
   "metadata": {},
   "outputs": [],
   "source": [
    "import pandas as pd"
   ]
  },
  {
   "cell_type": "code",
   "execution_count": 2,
   "id": "c0a8a691",
   "metadata": {},
   "outputs": [],
   "source": [
    "base = pd.read_excel('C:/Users/alex-/Documents/Data Science/Modelo de Projeção/dataset_vendas.xlsx')"
   ]
  },
  {
   "cell_type": "code",
   "execution_count": 18,
   "id": "1fd4ddfb",
   "metadata": {},
   "outputs": [
    {
     "data": {
      "text/html": [
       "<div>\n",
       "<style scoped>\n",
       "    .dataframe tbody tr th:only-of-type {\n",
       "        vertical-align: middle;\n",
       "    }\n",
       "\n",
       "    .dataframe tbody tr th {\n",
       "        vertical-align: top;\n",
       "    }\n",
       "\n",
       "    .dataframe thead th {\n",
       "        text-align: right;\n",
       "    }\n",
       "</style>\n",
       "<table border=\"1\" class=\"dataframe\">\n",
       "  <thead>\n",
       "    <tr style=\"text-align: right;\">\n",
       "      <th></th>\n",
       "      <th>data</th>\n",
       "      <th>semana</th>\n",
       "      <th>vendas</th>\n",
       "      <th>projeção</th>\n",
       "    </tr>\n",
       "  </thead>\n",
       "  <tbody>\n",
       "    <tr>\n",
       "      <th>0</th>\n",
       "      <td>01/01/22</td>\n",
       "      <td>sábado</td>\n",
       "      <td>189</td>\n",
       "      <td>189.0</td>\n",
       "    </tr>\n",
       "    <tr>\n",
       "      <th>1</th>\n",
       "      <td>02/01/22</td>\n",
       "      <td>domingo</td>\n",
       "      <td>85</td>\n",
       "      <td>85.0</td>\n",
       "    </tr>\n",
       "    <tr>\n",
       "      <th>2</th>\n",
       "      <td>03/01/22</td>\n",
       "      <td>segunda-feira</td>\n",
       "      <td>7313</td>\n",
       "      <td>7313.0</td>\n",
       "    </tr>\n",
       "    <tr>\n",
       "      <th>3</th>\n",
       "      <td>04/01/22</td>\n",
       "      <td>terça-feira</td>\n",
       "      <td>4775</td>\n",
       "      <td>4775.0</td>\n",
       "    </tr>\n",
       "    <tr>\n",
       "      <th>4</th>\n",
       "      <td>05/01/22</td>\n",
       "      <td>quarta-feira</td>\n",
       "      <td>4387</td>\n",
       "      <td>4387.0</td>\n",
       "    </tr>\n",
       "  </tbody>\n",
       "</table>\n",
       "</div>"
      ],
      "text/plain": [
       "       data         semana  vendas  projeção\n",
       "0  01/01/22         sábado     189     189.0\n",
       "1  02/01/22        domingo      85      85.0\n",
       "2  03/01/22  segunda-feira    7313    7313.0\n",
       "3  04/01/22    terça-feira    4775    4775.0\n",
       "4  05/01/22   quarta-feira    4387    4387.0"
      ]
     },
     "execution_count": 18,
     "metadata": {},
     "output_type": "execute_result"
    }
   ],
   "source": [
    "#listando os dados\n",
    "base.head()"
   ]
  },
  {
   "cell_type": "code",
   "execution_count": 4,
   "id": "986bbfff",
   "metadata": {},
   "outputs": [
    {
     "data": {
      "text/html": [
       "<div>\n",
       "<style scoped>\n",
       "    .dataframe tbody tr th:only-of-type {\n",
       "        vertical-align: middle;\n",
       "    }\n",
       "\n",
       "    .dataframe tbody tr th {\n",
       "        vertical-align: top;\n",
       "    }\n",
       "\n",
       "    .dataframe thead th {\n",
       "        text-align: right;\n",
       "    }\n",
       "</style>\n",
       "<table border=\"1\" class=\"dataframe\">\n",
       "  <thead>\n",
       "    <tr style=\"text-align: right;\">\n",
       "      <th></th>\n",
       "      <th>Vendas</th>\n",
       "      <th>Vendas Projeção</th>\n",
       "    </tr>\n",
       "  </thead>\n",
       "  <tbody>\n",
       "    <tr>\n",
       "      <th>count</th>\n",
       "      <td>304.000000</td>\n",
       "      <td>279.000000</td>\n",
       "    </tr>\n",
       "    <tr>\n",
       "      <th>mean</th>\n",
       "      <td>5631.664474</td>\n",
       "      <td>5642.724014</td>\n",
       "    </tr>\n",
       "    <tr>\n",
       "      <th>std</th>\n",
       "      <td>4849.605582</td>\n",
       "      <td>4830.287920</td>\n",
       "    </tr>\n",
       "    <tr>\n",
       "      <th>min</th>\n",
       "      <td>0.000000</td>\n",
       "      <td>0.000000</td>\n",
       "    </tr>\n",
       "    <tr>\n",
       "      <th>25%</th>\n",
       "      <td>147.000000</td>\n",
       "      <td>153.500000</td>\n",
       "    </tr>\n",
       "    <tr>\n",
       "      <th>50%</th>\n",
       "      <td>5573.000000</td>\n",
       "      <td>5574.000000</td>\n",
       "    </tr>\n",
       "    <tr>\n",
       "      <th>75%</th>\n",
       "      <td>8750.500000</td>\n",
       "      <td>8806.000000</td>\n",
       "    </tr>\n",
       "    <tr>\n",
       "      <th>max</th>\n",
       "      <td>19918.000000</td>\n",
       "      <td>19918.000000</td>\n",
       "    </tr>\n",
       "  </tbody>\n",
       "</table>\n",
       "</div>"
      ],
      "text/plain": [
       "             Vendas  Vendas Projeção\n",
       "count    304.000000       279.000000\n",
       "mean    5631.664474      5642.724014\n",
       "std     4849.605582      4830.287920\n",
       "min        0.000000         0.000000\n",
       "25%      147.000000       153.500000\n",
       "50%     5573.000000      5574.000000\n",
       "75%     8750.500000      8806.000000\n",
       "max    19918.000000     19918.000000"
      ]
     },
     "execution_count": 4,
     "metadata": {},
     "output_type": "execute_result"
    }
   ],
   "source": [
    "#vendo estatística básica\n",
    "base.describe()"
   ]
  },
  {
   "cell_type": "code",
   "execution_count": 5,
   "id": "9446b584",
   "metadata": {},
   "outputs": [
    {
     "data": {
      "text/html": [
       "<div>\n",
       "<style scoped>\n",
       "    .dataframe tbody tr th:only-of-type {\n",
       "        vertical-align: middle;\n",
       "    }\n",
       "\n",
       "    .dataframe tbody tr th {\n",
       "        vertical-align: top;\n",
       "    }\n",
       "\n",
       "    .dataframe thead th {\n",
       "        text-align: right;\n",
       "    }\n",
       "</style>\n",
       "<table border=\"1\" class=\"dataframe\">\n",
       "  <thead>\n",
       "    <tr style=\"text-align: right;\">\n",
       "      <th></th>\n",
       "      <th>data</th>\n",
       "      <th>semana</th>\n",
       "      <th>vendas</th>\n",
       "      <th>projeção</th>\n",
       "    </tr>\n",
       "  </thead>\n",
       "  <tbody>\n",
       "    <tr>\n",
       "      <th>0</th>\n",
       "      <td>01/01/22</td>\n",
       "      <td>sábado</td>\n",
       "      <td>189</td>\n",
       "      <td>189.0</td>\n",
       "    </tr>\n",
       "    <tr>\n",
       "      <th>1</th>\n",
       "      <td>02/01/22</td>\n",
       "      <td>domingo</td>\n",
       "      <td>85</td>\n",
       "      <td>85.0</td>\n",
       "    </tr>\n",
       "    <tr>\n",
       "      <th>2</th>\n",
       "      <td>03/01/22</td>\n",
       "      <td>segunda-feira</td>\n",
       "      <td>7313</td>\n",
       "      <td>7313.0</td>\n",
       "    </tr>\n",
       "    <tr>\n",
       "      <th>3</th>\n",
       "      <td>04/01/22</td>\n",
       "      <td>terça-feira</td>\n",
       "      <td>4775</td>\n",
       "      <td>4775.0</td>\n",
       "    </tr>\n",
       "    <tr>\n",
       "      <th>4</th>\n",
       "      <td>05/01/22</td>\n",
       "      <td>quarta-feira</td>\n",
       "      <td>4387</td>\n",
       "      <td>4387.0</td>\n",
       "    </tr>\n",
       "  </tbody>\n",
       "</table>\n",
       "</div>"
      ],
      "text/plain": [
       "       data         semana  vendas  projeção\n",
       "0  01/01/22         sábado     189     189.0\n",
       "1  02/01/22        domingo      85      85.0\n",
       "2  03/01/22  segunda-feira    7313    7313.0\n",
       "3  04/01/22    terça-feira    4775    4775.0\n",
       "4  05/01/22   quarta-feira    4387    4387.0"
      ]
     },
     "execution_count": 5,
     "metadata": {},
     "output_type": "execute_result"
    }
   ],
   "source": [
    "#renomeando as colunas para minusculo\n",
    "base.rename(columns ={\"Data\":\"data\",\n",
    "                             \"Semana\": \"semana\",\n",
    "                             \"Vendas\":\"vendas\",\n",
    "                             \"Vendas Projeção\":\"projeção\"},\n",
    "                     inplace = True)\n",
    "base.head()"
   ]
  },
  {
   "cell_type": "code",
   "execution_count": 6,
   "id": "a4c0dae3",
   "metadata": {},
   "outputs": [
    {
     "data": {
      "text/html": [
       "<div>\n",
       "<style scoped>\n",
       "    .dataframe tbody tr th:only-of-type {\n",
       "        vertical-align: middle;\n",
       "    }\n",
       "\n",
       "    .dataframe tbody tr th {\n",
       "        vertical-align: top;\n",
       "    }\n",
       "\n",
       "    .dataframe thead th {\n",
       "        text-align: right;\n",
       "    }\n",
       "</style>\n",
       "<table border=\"1\" class=\"dataframe\">\n",
       "  <thead>\n",
       "    <tr style=\"text-align: right;\">\n",
       "      <th></th>\n",
       "      <th>vendas</th>\n",
       "      <th>projeção</th>\n",
       "    </tr>\n",
       "    <tr>\n",
       "      <th>semana</th>\n",
       "      <th></th>\n",
       "      <th></th>\n",
       "    </tr>\n",
       "  </thead>\n",
       "  <tbody>\n",
       "    <tr>\n",
       "      <th>domingo</th>\n",
       "      <td>2190</td>\n",
       "      <td>1988.0</td>\n",
       "    </tr>\n",
       "    <tr>\n",
       "      <th>quarta-feira</th>\n",
       "      <td>243030</td>\n",
       "      <td>224005.0</td>\n",
       "    </tr>\n",
       "    <tr>\n",
       "      <th>quinta-feira</th>\n",
       "      <td>392447</td>\n",
       "      <td>373276.0</td>\n",
       "    </tr>\n",
       "    <tr>\n",
       "      <th>segunda-feira</th>\n",
       "      <td>519679</td>\n",
       "      <td>472919.0</td>\n",
       "    </tr>\n",
       "    <tr>\n",
       "      <th>sexta-feira</th>\n",
       "      <td>279061</td>\n",
       "      <td>250363.0</td>\n",
       "    </tr>\n",
       "    <tr>\n",
       "      <th>sábado</th>\n",
       "      <td>4492</td>\n",
       "      <td>4092.0</td>\n",
       "    </tr>\n",
       "    <tr>\n",
       "      <th>terça-feira</th>\n",
       "      <td>271127</td>\n",
       "      <td>247677.0</td>\n",
       "    </tr>\n",
       "  </tbody>\n",
       "</table>\n",
       "</div>"
      ],
      "text/plain": [
       "               vendas  projeção\n",
       "semana                         \n",
       "domingo          2190    1988.0\n",
       "quarta-feira   243030  224005.0\n",
       "quinta-feira   392447  373276.0\n",
       "segunda-feira  519679  472919.0\n",
       "sexta-feira    279061  250363.0\n",
       "sábado           4492    4092.0\n",
       "terça-feira    271127  247677.0"
      ]
     },
     "execution_count": 6,
     "metadata": {},
     "output_type": "execute_result"
    }
   ],
   "source": [
    "#criando um novo dataframe para analisar as vendas agrupadas por dia da semana\n",
    "base_semana = base.groupby('semana').sum('vendas')\n",
    "base_semana"
   ]
  },
  {
   "cell_type": "markdown",
   "id": "e639251c",
   "metadata": {},
   "source": [
    "## Ordenando os dados"
   ]
  },
  {
   "cell_type": "code",
   "execution_count": 14,
   "id": "727a50dd",
   "metadata": {},
   "outputs": [
    {
     "data": {
      "text/html": [
       "<div>\n",
       "<style scoped>\n",
       "    .dataframe tbody tr th:only-of-type {\n",
       "        vertical-align: middle;\n",
       "    }\n",
       "\n",
       "    .dataframe tbody tr th {\n",
       "        vertical-align: top;\n",
       "    }\n",
       "\n",
       "    .dataframe thead th {\n",
       "        text-align: right;\n",
       "    }\n",
       "</style>\n",
       "<table border=\"1\" class=\"dataframe\">\n",
       "  <thead>\n",
       "    <tr style=\"text-align: right;\">\n",
       "      <th></th>\n",
       "      <th>vendas</th>\n",
       "      <th>projeção</th>\n",
       "      <th>ordenação</th>\n",
       "    </tr>\n",
       "    <tr>\n",
       "      <th>semana</th>\n",
       "      <th></th>\n",
       "      <th></th>\n",
       "      <th></th>\n",
       "    </tr>\n",
       "  </thead>\n",
       "  <tbody>\n",
       "    <tr>\n",
       "      <th>terça-feira</th>\n",
       "      <td>271127</td>\n",
       "      <td>247677.0</td>\n",
       "      <td>3</td>\n",
       "    </tr>\n",
       "    <tr>\n",
       "      <th>sábado</th>\n",
       "      <td>4492</td>\n",
       "      <td>4092.0</td>\n",
       "      <td>7</td>\n",
       "    </tr>\n",
       "    <tr>\n",
       "      <th>sexta-feira</th>\n",
       "      <td>279061</td>\n",
       "      <td>250363.0</td>\n",
       "      <td>6</td>\n",
       "    </tr>\n",
       "    <tr>\n",
       "      <th>segunda-feira</th>\n",
       "      <td>519679</td>\n",
       "      <td>472919.0</td>\n",
       "      <td>2</td>\n",
       "    </tr>\n",
       "    <tr>\n",
       "      <th>quinta-feira</th>\n",
       "      <td>392447</td>\n",
       "      <td>373276.0</td>\n",
       "      <td>5</td>\n",
       "    </tr>\n",
       "    <tr>\n",
       "      <th>quarta-feira</th>\n",
       "      <td>243030</td>\n",
       "      <td>224005.0</td>\n",
       "      <td>4</td>\n",
       "    </tr>\n",
       "    <tr>\n",
       "      <th>domingo</th>\n",
       "      <td>2190</td>\n",
       "      <td>1988.0</td>\n",
       "      <td>1</td>\n",
       "    </tr>\n",
       "  </tbody>\n",
       "</table>\n",
       "</div>"
      ],
      "text/plain": [
       "               vendas  projeção ordenação\n",
       "semana                                   \n",
       "terça-feira    271127  247677.0         3\n",
       "sábado           4492    4092.0         7\n",
       "sexta-feira    279061  250363.0         6\n",
       "segunda-feira  519679  472919.0         2\n",
       "quinta-feira   392447  373276.0         5\n",
       "quarta-feira   243030  224005.0         4\n",
       "domingo          2190    1988.0         1"
      ]
     },
     "execution_count": 14,
     "metadata": {},
     "output_type": "execute_result"
    }
   ],
   "source": [
    "#criando uma ordenação qualquer, para que eu pudesse criar em seguida uma coluna que eu vou usar na ordenação padrão\n",
    "base_semana.sort_values(['semana'], ascending=False, inplace=True) #ordenei os dados pelo nome da semana\n",
    "\n",
    "base_semana[\"ordenação\"] = [\"3\",\"7\",\"6\",\"2\",\"5\",\"4\",\"1\"] #criei uma nova coluna passando os dados da ordem do dia da semana\n",
    "base_semana #printando o dataframe"
   ]
  },
  {
   "cell_type": "code",
   "execution_count": 30,
   "id": "21b11649",
   "metadata": {},
   "outputs": [
    {
     "data": {
      "text/html": [
       "<div>\n",
       "<style scoped>\n",
       "    .dataframe tbody tr th:only-of-type {\n",
       "        vertical-align: middle;\n",
       "    }\n",
       "\n",
       "    .dataframe tbody tr th {\n",
       "        vertical-align: top;\n",
       "    }\n",
       "\n",
       "    .dataframe thead th {\n",
       "        text-align: right;\n",
       "    }\n",
       "</style>\n",
       "<table border=\"1\" class=\"dataframe\">\n",
       "  <thead>\n",
       "    <tr style=\"text-align: right;\">\n",
       "      <th></th>\n",
       "      <th>vendas</th>\n",
       "      <th>projeção</th>\n",
       "      <th>ordenação</th>\n",
       "    </tr>\n",
       "    <tr>\n",
       "      <th>semana</th>\n",
       "      <th></th>\n",
       "      <th></th>\n",
       "      <th></th>\n",
       "    </tr>\n",
       "  </thead>\n",
       "  <tbody>\n",
       "    <tr>\n",
       "      <th>domingo</th>\n",
       "      <td>2190</td>\n",
       "      <td>1988.0</td>\n",
       "      <td>1</td>\n",
       "    </tr>\n",
       "    <tr>\n",
       "      <th>segunda-feira</th>\n",
       "      <td>519679</td>\n",
       "      <td>472919.0</td>\n",
       "      <td>2</td>\n",
       "    </tr>\n",
       "    <tr>\n",
       "      <th>terça-feira</th>\n",
       "      <td>271127</td>\n",
       "      <td>247677.0</td>\n",
       "      <td>3</td>\n",
       "    </tr>\n",
       "    <tr>\n",
       "      <th>quarta-feira</th>\n",
       "      <td>243030</td>\n",
       "      <td>224005.0</td>\n",
       "      <td>4</td>\n",
       "    </tr>\n",
       "    <tr>\n",
       "      <th>quinta-feira</th>\n",
       "      <td>392447</td>\n",
       "      <td>373276.0</td>\n",
       "      <td>5</td>\n",
       "    </tr>\n",
       "    <tr>\n",
       "      <th>sexta-feira</th>\n",
       "      <td>279061</td>\n",
       "      <td>250363.0</td>\n",
       "      <td>6</td>\n",
       "    </tr>\n",
       "    <tr>\n",
       "      <th>sábado</th>\n",
       "      <td>4492</td>\n",
       "      <td>4092.0</td>\n",
       "      <td>7</td>\n",
       "    </tr>\n",
       "  </tbody>\n",
       "</table>\n",
       "</div>"
      ],
      "text/plain": [
       "               vendas  projeção ordenação\n",
       "semana                                   \n",
       "domingo          2190    1988.0         1\n",
       "segunda-feira  519679  472919.0         2\n",
       "terça-feira    271127  247677.0         3\n",
       "quarta-feira   243030  224005.0         4\n",
       "quinta-feira   392447  373276.0         5\n",
       "sexta-feira    279061  250363.0         6\n",
       "sábado           4492    4092.0         7"
      ]
     },
     "execution_count": 30,
     "metadata": {},
     "output_type": "execute_result"
    }
   ],
   "source": [
    "#Abaixo ordenei o dataset com minha ordenação da semana, para que começasse no domingo e terminasse no sábado\n",
    "base_semana.sort_values(by=[\"ordenação\"], ascending=True, inplace=True) #O inplace serve para \n",
    "base_semana"
   ]
  },
  {
   "cell_type": "code",
   "execution_count": 31,
   "id": "501e7e14",
   "metadata": {},
   "outputs": [
    {
     "data": {
      "image/png": "[encoded data removed]",
      "text/plain": [
       "<Figure size 432x288 with 1 Axes>"
      ]
     },
     "metadata": {
      "needs_background": "light"
     },
     "output_type": "display_data"
    }
   ],
   "source": [
    "import matplotlib.pyplot as plt\n",
    "\n",
    "\n",
    "#criando um gráfico de barras para analisar o comportamento das vendas na semana\n",
    "base_semana['vendas'].plot(kind='bar', \n",
    "                           title=\"Distribuição das vendas por semana\",\n",
    "                           ylabel=\"Vendas\",\n",
    "                           xlabel=\"Semana\",)\n",
    "plt.show()\n",
    "\n",
    "#no gráfico abaixo é possível visualizar que temos um tipo de comportamento ao longo da semana"
   ]
  },
  {
   "cell_type": "markdown",
   "id": "475544b5",
   "metadata": {},
   "source": [
    "## Analisando Comportamento Diário"
   ]
  },
  {
   "cell_type": "code",
   "execution_count": 32,
   "id": "9487cc71",
   "metadata": {},
   "outputs": [
    {
     "data": {
      "text/plain": [
       "<function matplotlib.pyplot.show(close=None, block=None)>"
      ]
     },
     "execution_count": 32,
     "metadata": {},
     "output_type": "execute_result"
    },
    {
     "data": {
      "image/png": "[encoded data removed]",
      "text/plain": [
       "<Figure size 432x288 with 1 Axes>"
      ]
     },
     "metadata": {
      "needs_background": "light"
     },
     "output_type": "display_data"
    }
   ],
   "source": [
    "#declarando as variaveis\n",
    "mes = base['data']\n",
    "vendas = base['vendas']\n",
    "\n",
    "plt.plot(mes,vendas)\n",
    "plt.show"
   ]
  },
  {
   "cell_type": "code",
   "execution_count": null,
   "id": "01272024",
   "metadata": {},
   "outputs": [],
   "source": []
  }
 ],
 "metadata": {
  "kernelspec": {
   "display_name": "Python 3 (ipykernel)",
   "language": "python",
   "name": "python3"
  },
  "language_info": {
   "codemirror_mode": {
    "name": "ipython",
    "version": 3
   },
   "file_extension": ".py",
   "mimetype": "text/x-python",
   "name": "python",
   "nbconvert_exporter": "python",
   "pygments_lexer": "ipython3",
   "version": "3.9.12"
  }
 },
 "nbformat": 4,
 "nbformat_minor": 5
}
